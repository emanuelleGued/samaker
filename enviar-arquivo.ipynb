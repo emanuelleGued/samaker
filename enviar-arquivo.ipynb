{
 "cells": [
  {
   "cell_type": "code",
   "execution_count": 1,
   "metadata": {},
   "outputs": [
    {
     "name": "stdout",
     "output_type": "stream",
     "text": [
      "Bucket curso-aws-sagemaker criado com sucesso.\n"
     ]
    }
   ],
   "source": [
    "import boto3\n",
    "from botocore.exceptions import ClientError\n",
    "\n",
    "\n",
    "# Criando uma sessão boto3\n",
    "session = boto3.Session(profile_name='emanuelle')\n",
    "\n",
    "\n",
    "# Definindo o nome do bucket\n",
    "bucket_name = 'curso-aws-sagemaker'  # Escolha um nome único para o seu bucket\n",
    "\n",
    "# Criando o cliente S3\n",
    "s3_client = session.client('s3')\n",
    "\n",
    "# Tentando criar o bucket\n",
    "try:\n",
    "    response = s3_client.create_bucket(\n",
    "        Bucket=bucket_name,\n",
    "        # Omitindo o LocationConstraint para usar a região padrão da conta\n",
    "    )\n",
    "    print(f\"Bucket {bucket_name} criado com sucesso.\")\n",
    "except ClientError as e:\n",
    "    if e.response['Error']['Code'] == 'BucketAlreadyOwnedByYou':\n",
    "        print(f\"O bucket {bucket_name} já existe e pertence a você.\")\n",
    "    else:\n",
    "        print(f\"Erro ao criar o bucket: {e}\")\n"
   ]
  },
  {
   "cell_type": "code",
   "execution_count": 3,
   "metadata": {},
   "outputs": [
    {
     "name": "stdout",
     "output_type": "stream",
     "text": [
      "s3://curso-aws-sagemaker/arquivos\n",
      "s3://curso-aws-sagemaker/arquivos/digit.png\n"
     ]
    }
   ],
   "source": [
    "from sagemaker.s3 import S3Uploader\n",
    "from sagemaker import Session\n",
    "session.region_name\n",
    "subpasta = \"arquivos\"\n",
    "caminho = \"s3://{}/{}\".format(bucket_name, subpasta)\n",
    "print(caminho)\n",
    "sagemaker_session = Session(boto_session=session)\n",
    "\n",
    "try:\n",
    "    s3_imagem = S3Uploader.upload(\"digit.png\", caminho, sagemaker_session=sagemaker_session)\n",
    "    print(s3_imagem)\n",
    "except Exception as e:\n",
    "    print(f\"Erro ao realizar upload para o S3: {e}\")"
   ]
  },
  {
   "cell_type": "code",
   "execution_count": 4,
   "metadata": {},
   "outputs": [
    {
     "name": "stdout",
     "output_type": "stream",
     "text": [
      "s3://curso-aws-sagemaker/arquivos/house_prices.csv\n"
     ]
    }
   ],
   "source": [
    "sagemaker_session = Session(boto_session=session)\n",
    "\n",
    "try:\n",
    "    s3_base = S3Uploader.upload(\"house_prices.csv\", caminho, sagemaker_session=sagemaker_session)\n",
    "    print(s3_base)\n",
    "except Exception as e:\n",
    "    print(f\"Erro ao realizar upload para o S3: {e}\")"
   ]
  }
 ],
 "metadata": {
  "kernelspec": {
   "display_name": "myenv",
   "language": "python",
   "name": "python3"
  },
  "language_info": {
   "codemirror_mode": {
    "name": "ipython",
    "version": 3
   },
   "file_extension": ".py",
   "mimetype": "text/x-python",
   "name": "python",
   "nbconvert_exporter": "python",
   "pygments_lexer": "ipython3",
   "version": "3.10.12"
  }
 },
 "nbformat": 4,
 "nbformat_minor": 2
}
