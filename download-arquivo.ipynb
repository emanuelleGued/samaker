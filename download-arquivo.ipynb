{
 "cells": [
  {
   "cell_type": "code",
   "execution_count": 1,
   "metadata": {},
   "outputs": [
    {
     "name": "stdout",
     "output_type": "stream",
     "text": [
      "sagemaker.config INFO - Not applying SDK defaults from location: /etc/xdg/xdg-cinnamon/sagemaker/config.yaml\n",
      "sagemaker.config INFO - Not applying SDK defaults from location: /home/manu/.config/sagemaker/config.yaml\n",
      "Download do arquivo concluído com sucesso.\n"
     ]
    }
   ],
   "source": [
    "import boto3\n",
    "from sagemaker import Session\n",
    "\n",
    "# Criando uma sessão boto3 com o perfil 'emanuelle'\n",
    "session = boto3.Session(profile_name='emanuelle')\n",
    "\n",
    "# Nome do bucket S3\n",
    "bucket = \"curso-aws-sagemaker\"\n",
    "\n",
    "# Criando recurso S3\n",
    "s3 = session.resource(\"s3\")\n",
    "\n",
    "# Criando uma sessão SageMaker\n",
    "sagemaker_session = Session(boto_session=session)\n",
    "\n",
    "# Tentando fazer o download do arquivo do S3\n",
    "try:\n",
    "    s3.Bucket(bucket).download_file(\"arquivos/digit.png\", \"digit_download.png\")\n",
    "    print(\"Download do arquivo concluído com sucesso.\")\n",
    "except Exception as e:\n",
    "    print(f\"Erro ao realizar download do arquivo: {e}\")\n"
   ]
  }
 ],
 "metadata": {
  "kernelspec": {
   "display_name": "myenv",
   "language": "python",
   "name": "python3"
  },
  "language_info": {
   "codemirror_mode": {
    "name": "ipython",
    "version": 3
   },
   "file_extension": ".py",
   "mimetype": "text/x-python",
   "name": "python",
   "nbconvert_exporter": "python",
   "pygments_lexer": "ipython3",
   "version": "3.10.12"
  }
 },
 "nbformat": 4,
 "nbformat_minor": 2
}
